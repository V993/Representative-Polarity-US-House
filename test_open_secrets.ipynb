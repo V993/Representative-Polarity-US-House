{
 "cells": [
  {
   "cell_type": "code",
   "execution_count": 2,
   "metadata": {},
   "outputs": [],
   "source": [
    "import re\n",
    "import time\n",
    "import requests\n",
    "import pandas as pd\n",
    "from io import StringIO\n",
    "from bs4 import BeautifulSoup\n",
    "from fuzzymatcher import link_table, fuzzy_left_join"
   ]
  },
  {
   "cell_type": "code",
   "execution_count": 24,
   "metadata": {},
   "outputs": [],
   "source": [
    "\n",
    "import fresh_data.get_datasets\n",
    "import importlib\n",
    "importlib.reload(fresh_data.get_datasets)\n",
    "from fresh_data.get_datasets import *"
   ]
  },
  {
   "cell_type": "code",
   "execution_count": 25,
   "metadata": {},
   "outputs": [],
   "source": [
    "\n",
    "open_secrets = load_open_secrets_data(\"open_secrets\")"
   ]
  },
  {
   "cell_type": "code",
   "execution_count": 21,
   "metadata": {},
   "outputs": [
    {
     "data": {
      "text/html": [
       "<div>\n",
       "<style scoped>\n",
       "    .dataframe tbody tr th:only-of-type {\n",
       "        vertical-align: middle;\n",
       "    }\n",
       "\n",
       "    .dataframe tbody tr th {\n",
       "        vertical-align: top;\n",
       "    }\n",
       "\n",
       "    .dataframe thead th {\n",
       "        text-align: right;\n",
       "    }\n",
       "</style>\n",
       "<table border=\"1\" class=\"dataframe\">\n",
       "  <thead>\n",
       "    <tr style=\"text-align: right;\">\n",
       "      <th></th>\n",
       "      <th>Total Spent</th>\n",
       "      <th>year_range</th>\n",
       "      <th>Cash on Hand</th>\n",
       "      <th>Total Raised</th>\n",
       "      <th>representative</th>\n",
       "      <th>state_name</th>\n",
       "      <th>district_code</th>\n",
       "    </tr>\n",
       "  </thead>\n",
       "  <tbody>\n",
       "    <tr>\n",
       "      <th>0</th>\n",
       "      <td>5580964</td>\n",
       "      <td>1999-2000</td>\n",
       "      <td>74748</td>\n",
       "      <td>3816891</td>\n",
       "      <td>Richard A. Gephardt</td>\n",
       "      <td>Missouri</td>\n",
       "      <td>03</td>\n",
       "    </tr>\n",
       "    <tr>\n",
       "      <th>1</th>\n",
       "      <td>4650104</td>\n",
       "      <td>1999-2000</td>\n",
       "      <td>1728</td>\n",
       "      <td>4660714</td>\n",
       "      <td>Adam Schiff</td>\n",
       "      <td>California</td>\n",
       "      <td>27</td>\n",
       "    </tr>\n",
       "    <tr>\n",
       "      <th>2</th>\n",
       "      <td>3575020</td>\n",
       "      <td>1999-2000</td>\n",
       "      <td>158590</td>\n",
       "      <td>3477160</td>\n",
       "      <td>Bob Barr</td>\n",
       "      <td>Georgia</td>\n",
       "      <td>07</td>\n",
       "    </tr>\n",
       "    <tr>\n",
       "      <th>3</th>\n",
       "      <td>3086708</td>\n",
       "      <td>1999-2000</td>\n",
       "      <td>230140</td>\n",
       "      <td>2755056</td>\n",
       "      <td>E. Clay Shaw Jr.</td>\n",
       "      <td>Florida</td>\n",
       "      <td>22</td>\n",
       "    </tr>\n",
       "    <tr>\n",
       "      <th>4</th>\n",
       "      <td>2904763</td>\n",
       "      <td>1999-2000</td>\n",
       "      <td>113883</td>\n",
       "      <td>2905544</td>\n",
       "      <td>Anne M. Northup</td>\n",
       "      <td>Kentucky</td>\n",
       "      <td>03</td>\n",
       "    </tr>\n",
       "  </tbody>\n",
       "</table>\n",
       "</div>"
      ],
      "text/plain": [
       "   Total Spent year_range  Cash on Hand  Total Raised       representative  \\\n",
       "0      5580964  1999-2000         74748       3816891  Richard A. Gephardt   \n",
       "1      4650104  1999-2000          1728       4660714          Adam Schiff   \n",
       "2      3575020  1999-2000        158590       3477160             Bob Barr   \n",
       "3      3086708  1999-2000        230140       2755056     E. Clay Shaw Jr.   \n",
       "4      2904763  1999-2000        113883       2905544      Anne M. Northup   \n",
       "\n",
       "   state_name district_code  \n",
       "0    Missouri            03  \n",
       "1  California            27  \n",
       "2     Georgia            07  \n",
       "3     Florida            22  \n",
       "4    Kentucky            03  "
      ]
     },
     "execution_count": 21,
     "metadata": {},
     "output_type": "execute_result"
    }
   ],
   "source": [
    "open_secrets.head()"
   ]
  },
  {
   "cell_type": "code",
   "execution_count": 22,
   "metadata": {},
   "outputs": [
    {
     "data": {
      "text/plain": [
       "array(['1999-2000', '2001-2002', '2003-2004', '2005-2006', '2007-2008',\n",
       "       '2009-2010', '2011-2012', '2013-2014', '2015-2016', '2017-2018',\n",
       "       '2019-2020'], dtype=object)"
      ]
     },
     "execution_count": 22,
     "metadata": {},
     "output_type": "execute_result"
    }
   ],
   "source": [
    "open_secrets.year_range.unique()"
   ]
  },
  {
   "cell_type": "code",
   "execution_count": 27,
   "metadata": {},
   "outputs": [
    {
     "data": {
      "text/html": [
       "<div>\n",
       "<style scoped>\n",
       "    .dataframe tbody tr th:only-of-type {\n",
       "        vertical-align: middle;\n",
       "    }\n",
       "\n",
       "    .dataframe tbody tr th {\n",
       "        vertical-align: top;\n",
       "    }\n",
       "\n",
       "    .dataframe thead th {\n",
       "        text-align: right;\n",
       "    }\n",
       "</style>\n",
       "<table border=\"1\" class=\"dataframe\">\n",
       "  <thead>\n",
       "    <tr style=\"text-align: right;\">\n",
       "      <th></th>\n",
       "      <th>Total Spent</th>\n",
       "      <th>year_range</th>\n",
       "      <th>Cash on Hand</th>\n",
       "      <th>Total Raised</th>\n",
       "      <th>representative</th>\n",
       "      <th>state_name</th>\n",
       "      <th>district_code</th>\n",
       "    </tr>\n",
       "  </thead>\n",
       "  <tbody>\n",
       "    <tr>\n",
       "      <th>329</th>\n",
       "      <td>392579</td>\n",
       "      <td>1999-2000</td>\n",
       "      <td>208732</td>\n",
       "      <td>474066</td>\n",
       "      <td>Nydia M. Velazquez</td>\n",
       "      <td>NewYork</td>\n",
       "      <td>12</td>\n",
       "    </tr>\n",
       "    <tr>\n",
       "      <th>754</th>\n",
       "      <td>551994</td>\n",
       "      <td>2003-2004</td>\n",
       "      <td>240961</td>\n",
       "      <td>709017</td>\n",
       "      <td>Nydia M. Velazquez</td>\n",
       "      <td>NewYork</td>\n",
       "      <td>12</td>\n",
       "    </tr>\n",
       "    <tr>\n",
       "      <th>1164</th>\n",
       "      <td>698615</td>\n",
       "      <td>2005-2006</td>\n",
       "      <td>309102</td>\n",
       "      <td>766762</td>\n",
       "      <td>Nydia M. Velazquez</td>\n",
       "      <td>NewYork</td>\n",
       "      <td>12</td>\n",
       "    </tr>\n",
       "    <tr>\n",
       "      <th>2098</th>\n",
       "      <td>690875</td>\n",
       "      <td>2009-2010</td>\n",
       "      <td>826841</td>\n",
       "      <td>838912</td>\n",
       "      <td>Nydia M. Velazquez</td>\n",
       "      <td>NewYork</td>\n",
       "      <td>12</td>\n",
       "    </tr>\n",
       "    <tr>\n",
       "      <th>2720</th>\n",
       "      <td>1457836</td>\n",
       "      <td>2013-2014</td>\n",
       "      <td>476951</td>\n",
       "      <td>1410064</td>\n",
       "      <td>Carolyn B. Maloney</td>\n",
       "      <td>NewYork</td>\n",
       "      <td>12</td>\n",
       "    </tr>\n",
       "    <tr>\n",
       "      <th>3103</th>\n",
       "      <td>1708670</td>\n",
       "      <td>2015-2016</td>\n",
       "      <td>457518</td>\n",
       "      <td>1689237</td>\n",
       "      <td>Carolyn B Maloney</td>\n",
       "      <td>NewYork</td>\n",
       "      <td>12</td>\n",
       "    </tr>\n",
       "    <tr>\n",
       "      <th>3527</th>\n",
       "      <td>2404709</td>\n",
       "      <td>2017-2018</td>\n",
       "      <td>107909</td>\n",
       "      <td>2055099</td>\n",
       "      <td>Carolyn B Maloney</td>\n",
       "      <td>NewYork</td>\n",
       "      <td>12</td>\n",
       "    </tr>\n",
       "    <tr>\n",
       "      <th>3955</th>\n",
       "      <td>3059202</td>\n",
       "      <td>2019-2020</td>\n",
       "      <td>116416</td>\n",
       "      <td>3067173</td>\n",
       "      <td>Carolyn B Maloney</td>\n",
       "      <td>NewYork</td>\n",
       "      <td>12</td>\n",
       "    </tr>\n",
       "  </tbody>\n",
       "</table>\n",
       "</div>"
      ],
      "text/plain": [
       "      Total Spent year_range  Cash on Hand  Total Raised      representative  \\\n",
       "329        392579  1999-2000        208732        474066  Nydia M. Velazquez   \n",
       "754        551994  2003-2004        240961        709017  Nydia M. Velazquez   \n",
       "1164       698615  2005-2006        309102        766762  Nydia M. Velazquez   \n",
       "2098       690875  2009-2010        826841        838912  Nydia M. Velazquez   \n",
       "2720      1457836  2013-2014        476951       1410064  Carolyn B. Maloney   \n",
       "3103      1708670  2015-2016        457518       1689237   Carolyn B Maloney   \n",
       "3527      2404709  2017-2018        107909       2055099   Carolyn B Maloney   \n",
       "3955      3059202  2019-2020        116416       3067173   Carolyn B Maloney   \n",
       "\n",
       "     state_name district_code  \n",
       "329     NewYork            12  \n",
       "754     NewYork            12  \n",
       "1164    NewYork            12  \n",
       "2098    NewYork            12  \n",
       "2720    NewYork            12  \n",
       "3103    NewYork            12  \n",
       "3527    NewYork            12  \n",
       "3955    NewYork            12  "
      ]
     },
     "execution_count": 27,
     "metadata": {},
     "output_type": "execute_result"
    }
   ],
   "source": [
    "state_district_mask = (open_secrets[\"state_name\"] == \"NewYork\") & (open_secrets[\"district_code\"] == \"12\")\n",
    "open_secrets[state_district_mask]"
   ]
  },
  {
   "cell_type": "code",
   "execution_count": 32,
   "metadata": {},
   "outputs": [
    {
     "data": {
      "text/plain": [
       "<AxesSubplot:xlabel='year_range'>"
      ]
     },
     "execution_count": 32,
     "metadata": {},
     "output_type": "execute_result"
    },
    {
     "data": {
      "image/png": "[encoded data removed]",
      "text/plain": [
       "<Figure size 720x720 with 1 Axes>"
      ]
     },
     "metadata": {
      "needs_background": "light"
     },
     "output_type": "display_data"
    }
   ],
   "source": [
    "open_secrets[state_district_mask].plot(x=\"year_range\", y=[\"Total Raised\", \"Cash on Hand\", \"Total Spent\"], figsize=(10,10))"
   ]
  },
  {
   "cell_type": "code",
   "execution_count": null,
   "metadata": {},
   "outputs": [],
   "source": []
  }
 ],
 "metadata": {
  "kernelspec": {
   "display_name": "Python 3",
   "language": "python",
   "name": "python3"
  },
  "language_info": {
   "codemirror_mode": {
    "name": "ipython",
    "version": 3
   },
   "file_extension": ".py",
   "mimetype": "text/x-python",
   "name": "python",
   "nbconvert_exporter": "python",
   "pygments_lexer": "ipython3",
   "version": "3.10.2"
  }
 },
 "nbformat": 4,
 "nbformat_minor": 2
}
