{
 "cells": [
  {
   "cell_type": "markdown",
   "metadata": {},
   "source": [
    "# Milestone 1: Congressional Voting Patterns and Trends\n",
    "Author: Leonardo Matone \n",
    "Webpage: https://v993.github.io/"
   ]
  },
  {
   "cell_type": "markdown",
   "metadata": {},
   "source": [
    "## Project Description:\n",
    "Congress has increasingly become more polarized and complicated in recent decades, and these preliminary investigations are a testament to that. Understanding and quantifying politicians specifically contextualized against one another could be a useful tool towards understanding where politicians lie (no pun intended), and how they can be described. \n"
   ]
  },
  {
   "cell_type": "markdown",
   "metadata": {},
   "source": [
    "### Data/Resources:\n",
    "\n",
    "I have found two sources of congressional data to investigate so far, but I do hope to find more. My two sources are from Kaggle, and can be loaded into a dataframe with ease:\n",
    "\n",
    "1. [Political Polarization of Congress](https://www.kaggle.com/code/justin2028/political-polarization-us-congress-data-analysis/input)\n",
    "- Is there a relationship between the age of a representative and their polarity?\n",
    "- Is there a particular demographic which a highly polarized representative may appeal to?\n",
    "2. [Congress’ Voting Patterns for/against Trump](https://www.kaggle.com/datasets/fivethirtyeight/trump-score)\n",
    "- Can we predict party or polarization from voting patterns for/against Trump? \n",
    "- Can we estimate polarity from voting patterns?\n",
    "3. [Election, COVID, and Demographic Data by County](https://www.kaggle.com/datasets/etsc9287/2020-general-election-polls)\n",
    "- Is there are correlation between counties which voted for Trump and representatives who vote with him?"
   ]
  },
  {
   "cell_type": "markdown",
   "metadata": {},
   "source": [
    "#### ETL Political Polarization of Congress:\n",
    "Load Kaggle data into a dataframe and do preliminary cleaning and data examination:"
   ]
  },
  {
   "cell_type": "code",
   "execution_count": 2,
   "metadata": {},
   "outputs": [],
   "source": [
    "import pandas as pd\n",
    "import matplotlib.pyplot as plt\n"
   ]
  },
  {
   "cell_type": "markdown",
   "metadata": {},
   "source": [
    "### [Political Polarization in Congress](https://www.kaggle.com/code/justin2028/political-polarization-us-congress-data-analysis)"
   ]
  },
  {
   "cell_type": "code",
   "execution_count": 17,
   "metadata": {},
   "outputs": [],
   "source": [
    "political_polarization_df = pd.read_csv(\"all_congress_polarization.csv\")"
   ]
  },
  {
   "cell_type": "code",
   "execution_count": 41,
   "metadata": {},
   "outputs": [
    {
     "data": {
      "text/html": [
       "<div>\n",
       "<style scoped>\n",
       "    .dataframe tbody tr th:only-of-type {\n",
       "        vertical-align: middle;\n",
       "    }\n",
       "\n",
       "    .dataframe tbody tr th {\n",
       "        vertical-align: top;\n",
       "    }\n",
       "\n",
       "    .dataframe thead th {\n",
       "        text-align: right;\n",
       "    }\n",
       "</style>\n",
       "<table border=\"1\" class=\"dataframe\">\n",
       "  <thead>\n",
       "    <tr style=\"text-align: right;\">\n",
       "      <th></th>\n",
       "      <th>congress</th>\n",
       "      <th>chamber</th>\n",
       "      <th>icpsr</th>\n",
       "      <th>state_icpsr</th>\n",
       "      <th>district_code</th>\n",
       "      <th>state_abbrev</th>\n",
       "      <th>party_code</th>\n",
       "      <th>bioname</th>\n",
       "      <th>bioguide_id</th>\n",
       "      <th>born</th>\n",
       "      <th>nominate_dim1</th>\n",
       "      <th>nominate_dim2</th>\n",
       "      <th>nominate_log_likelihood</th>\n",
       "      <th>nominate_geo_mean_probability</th>\n",
       "      <th>nominate_number_of_votes</th>\n",
       "      <th>nominate_number_of_errors</th>\n",
       "      <th>nokken_poole_dim1</th>\n",
       "      <th>nokken_poole_dim2</th>\n",
       "    </tr>\n",
       "  </thead>\n",
       "  <tbody>\n",
       "    <tr>\n",
       "      <th>48832</th>\n",
       "      <td>116</td>\n",
       "      <td>House</td>\n",
       "      <td>20301</td>\n",
       "      <td>41</td>\n",
       "      <td>3</td>\n",
       "      <td>AL</td>\n",
       "      <td>200</td>\n",
       "      <td>ROGERS, Mike Dennis</td>\n",
       "      <td>R000575</td>\n",
       "      <td>1958.0</td>\n",
       "      <td>0.361</td>\n",
       "      <td>0.462</td>\n",
       "      <td>-166.79214</td>\n",
       "      <td>0.80364</td>\n",
       "      <td>763.0</td>\n",
       "      <td>69.0</td>\n",
       "      <td>0.520</td>\n",
       "      <td>0.388</td>\n",
       "    </tr>\n",
       "    <tr>\n",
       "      <th>48833</th>\n",
       "      <td>116</td>\n",
       "      <td>House</td>\n",
       "      <td>21102</td>\n",
       "      <td>41</td>\n",
       "      <td>7</td>\n",
       "      <td>AL</td>\n",
       "      <td>100</td>\n",
       "      <td>SEWELL, Terri</td>\n",
       "      <td>S001185</td>\n",
       "      <td>1965.0</td>\n",
       "      <td>-0.393</td>\n",
       "      <td>0.398</td>\n",
       "      <td>-28.40094</td>\n",
       "      <td>0.96464</td>\n",
       "      <td>789.0</td>\n",
       "      <td>11.0</td>\n",
       "      <td>-0.430</td>\n",
       "      <td>0.384</td>\n",
       "    </tr>\n",
       "    <tr>\n",
       "      <th>48834</th>\n",
       "      <td>116</td>\n",
       "      <td>House</td>\n",
       "      <td>21192</td>\n",
       "      <td>41</td>\n",
       "      <td>2</td>\n",
       "      <td>AL</td>\n",
       "      <td>200</td>\n",
       "      <td>ROBY, Martha</td>\n",
       "      <td>R000591</td>\n",
       "      <td>1976.0</td>\n",
       "      <td>0.362</td>\n",
       "      <td>0.658</td>\n",
       "      <td>-90.42097</td>\n",
       "      <td>0.88244</td>\n",
       "      <td>723.0</td>\n",
       "      <td>31.0</td>\n",
       "      <td>0.346</td>\n",
       "      <td>0.672</td>\n",
       "    </tr>\n",
       "    <tr>\n",
       "      <th>48835</th>\n",
       "      <td>116</td>\n",
       "      <td>House</td>\n",
       "      <td>21193</td>\n",
       "      <td>41</td>\n",
       "      <td>5</td>\n",
       "      <td>AL</td>\n",
       "      <td>200</td>\n",
       "      <td>BROOKS, Mo</td>\n",
       "      <td>B001274</td>\n",
       "      <td>1954.0</td>\n",
       "      <td>0.652</td>\n",
       "      <td>-0.417</td>\n",
       "      <td>-140.71682</td>\n",
       "      <td>0.83962</td>\n",
       "      <td>805.0</td>\n",
       "      <td>57.0</td>\n",
       "      <td>0.772</td>\n",
       "      <td>-0.337</td>\n",
       "    </tr>\n",
       "    <tr>\n",
       "      <th>48836</th>\n",
       "      <td>116</td>\n",
       "      <td>House</td>\n",
       "      <td>21376</td>\n",
       "      <td>41</td>\n",
       "      <td>1</td>\n",
       "      <td>AL</td>\n",
       "      <td>200</td>\n",
       "      <td>BYRNE, Bradley</td>\n",
       "      <td>B001289</td>\n",
       "      <td>1955.0</td>\n",
       "      <td>0.610</td>\n",
       "      <td>0.250</td>\n",
       "      <td>-107.81607</td>\n",
       "      <td>0.85611</td>\n",
       "      <td>694.0</td>\n",
       "      <td>42.0</td>\n",
       "      <td>0.702</td>\n",
       "      <td>0.194</td>\n",
       "    </tr>\n",
       "  </tbody>\n",
       "</table>\n",
       "</div>"
      ],
      "text/plain": [
       "       congress chamber  icpsr  state_icpsr  district_code state_abbrev  \\\n",
       "48832       116   House  20301           41              3           AL   \n",
       "48833       116   House  21102           41              7           AL   \n",
       "48834       116   House  21192           41              2           AL   \n",
       "48835       116   House  21193           41              5           AL   \n",
       "48836       116   House  21376           41              1           AL   \n",
       "\n",
       "       party_code              bioname bioguide_id    born  nominate_dim1  \\\n",
       "48832         200  ROGERS, Mike Dennis     R000575  1958.0          0.361   \n",
       "48833         100        SEWELL, Terri     S001185  1965.0         -0.393   \n",
       "48834         200         ROBY, Martha     R000591  1976.0          0.362   \n",
       "48835         200           BROOKS, Mo     B001274  1954.0          0.652   \n",
       "48836         200       BYRNE, Bradley     B001289  1955.0          0.610   \n",
       "\n",
       "       nominate_dim2  nominate_log_likelihood  nominate_geo_mean_probability  \\\n",
       "48832          0.462               -166.79214                        0.80364   \n",
       "48833          0.398                -28.40094                        0.96464   \n",
       "48834          0.658                -90.42097                        0.88244   \n",
       "48835         -0.417               -140.71682                        0.83962   \n",
       "48836          0.250               -107.81607                        0.85611   \n",
       "\n",
       "       nominate_number_of_votes  nominate_number_of_errors  nokken_poole_dim1  \\\n",
       "48832                     763.0                       69.0              0.520   \n",
       "48833                     789.0                       11.0             -0.430   \n",
       "48834                     723.0                       31.0              0.346   \n",
       "48835                     805.0                       57.0              0.772   \n",
       "48836                     694.0                       42.0              0.702   \n",
       "\n",
       "       nokken_poole_dim2  \n",
       "48832              0.388  \n",
       "48833              0.384  \n",
       "48834              0.672  \n",
       "48835             -0.337  \n",
       "48836              0.194  "
      ]
     },
     "metadata": {},
     "output_type": "display_data"
    },
    {
     "data": {
      "text/plain": [
       "553"
      ]
     },
     "execution_count": 41,
     "metadata": {},
     "output_type": "execute_result"
    }
   ],
   "source": [
    "mask = (political_polarization_df[\"congress\"] == 116) & (political_polarization_df[\"chamber\"] != \"President\") \n",
    "single_congress_df = political_polarization_df[ mask ].drop([\"died\", \"conditional\", \"occupancy\", \"last_means\"], axis=1)\n",
    "display(single_congress_df.head()) # [single_congress_df.isna().any(axis=1)]\n",
    "# display(single_congress_df.dtypes)\n",
    "# display(single_congress_df.isna().sum())\n",
    "len(single_congress_df)"
   ]
  },
  {
   "cell_type": "code",
   "execution_count": 42,
   "metadata": {},
   "outputs": [
    {
     "data": {
      "text/plain": [
       "553"
      ]
     },
     "metadata": {},
     "output_type": "display_data"
    },
    {
     "data": {
      "text/plain": [
       "array(['House', 'Senate'], dtype=object)"
      ]
     },
     "execution_count": 42,
     "metadata": {},
     "output_type": "execute_result"
    }
   ],
   "source": [
    "display(len(single_congress_df))\n",
    "single_congress_df[\"chamber\"].unique()"
   ]
  },
  {
   "cell_type": "markdown",
   "metadata": {},
   "source": [
    "The dataframe we have constructed (after some trial and error) contains 553 representatives of both house and senate, with several descriptors for political polarity. There are a few NaNs after we remove troublesome columns (\"died\" doesn't apply to a recent session of congress, or at least it shouldn't), but most politicians have a score. There's definitely a lot to work with here. The most challenging part of loading this data was understanding the NaN values. For a while I thought that most of the data was unusable before reading into specific columns and why they might be NaNs."
   ]
  },
  {
   "cell_type": "markdown",
   "metadata": {},
   "source": []
  },
  {
   "cell_type": "markdown",
   "metadata": {},
   "source": []
  },
  {
   "cell_type": "code",
   "execution_count": null,
   "metadata": {},
   "outputs": [],
   "source": []
  },
  {
   "cell_type": "code",
   "execution_count": null,
   "metadata": {},
   "outputs": [],
   "source": [
    "political_polarization_df"
   ]
  },
  {
   "cell_type": "markdown",
   "metadata": {},
   "source": [
    "Central Questions:\n",
    "- Is there a relationship between the age of a representative and their polarity?\n",
    "- \n",
    "\n",
    "This dataset is interesting as it rates politicians in terms of polarity. Immediately what springs to mind are examining trends over time, when political polarity (extremism) surges, and when it eases. From the graph below, you can see the distace from the mean increase in recent years, while both parties trended closer to the mean during the second world warand through the 60s until the 90s, where both dip away from the mean:"
   ]
  },
  {
   "cell_type": "markdown",
   "metadata": {},
   "source": [
    "![Alt text](image.png)"
   ]
  },
  {
   "cell_type": "markdown",
   "metadata": {},
   "source": [
    "Can we estimate polarity from voting patterns?\n"
   ]
  },
  {
   "cell_type": "markdown",
   "metadata": {},
   "source": [
    "#### Project Goals:"
   ]
  },
  {
   "cell_type": "markdown",
   "metadata": {},
   "source": [
    "#### Work plan:\n",
    "\n",
    "I plan to meet (with myself) twice a week to dive into the project. I'll be using Visual Studio Code, JupyterNotebook, and Python to investigate my chosen sources of data."
   ]
  },
  {
   "cell_type": "markdown",
   "metadata": {},
   "source": []
  }
 ],
 "metadata": {
  "kernelspec": {
   "display_name": "Python 3",
   "language": "python",
   "name": "python3"
  },
  "language_info": {
   "codemirror_mode": {
    "name": "ipython",
    "version": 3
   },
   "file_extension": ".py",
   "mimetype": "text/x-python",
   "name": "python",
   "nbconvert_exporter": "python",
   "pygments_lexer": "ipython3",
   "version": "3.10.2"
  },
  "orig_nbformat": 4
 },
 "nbformat": 4,
 "nbformat_minor": 2
}
