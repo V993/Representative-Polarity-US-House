{
 "cells": [
  {
   "cell_type": "markdown",
   "metadata": {},
   "source": [
    "#### Author: Leonardo Matone"
   ]
  },
  {
   "cell_type": "code",
   "execution_count": 1,
   "metadata": {},
   "outputs": [],
   "source": [
    "import pandas as pd\n",
    "import matplotlib.pyplot as plt"
   ]
  },
  {
   "cell_type": "markdown",
   "metadata": {},
   "source": [
    "## Project Goals: Analyzing Congressional Voting Patterns and Trends"
   ]
  },
  {
   "cell_type": "markdown",
   "metadata": {},
   "source": [
    "Congress has increasingly become more polarized and complicated in recent decades, and these preliminary investigations are a testament to that. Understanding and quantifying politicians specifically contextualized against one another could be a useful tool towards understanding where politicians lie (no pun intended), and how they can be described. I will most likely be exmaining Congressional voting patterns. My hope is that I can find patterns in how representatives vote, and predict things about unknown representatives simply based on their voting or how they compare quantitatively to their colleauges. I have selected three preliminary datasets which I hope can provide some clarity for my direction. Not included here is a dataset containing political tweets, a stretch goal of mine is to use the tweets of representatives coupled with a little NLP to predict some dimension of their character, like political party or some polarization metric.\n",
    "\n",
    "The main goal of this project is to make large-scale politics more digistible. I've done some work on this in the past ([New York Data Project](https://github.com/V993/LegislativeDataAnalytics)) but never in a learning capacity (i.e. machine learning). My work will be centered in this [website](https://v993.github.io/) .\n"
   ]
  },
  {
   "cell_type": "markdown",
   "metadata": {},
   "source": [
    "#### Work plan:\n",
    "\n",
    "I plan to meet (with myself) twice a week to dive into the project and finalize my project vision. Over the next week I want to clearly definte my objectives and experiment with other data sources before continuing. I'll be maintaining a list of to-dos to keep myself on-track. I'll be using Visual Studio Code, JupyterNotebook, GitHub (for personal accounting and the website of course) and Python to investigate my chosen sources of data. "
   ]
  },
  {
   "cell_type": "markdown",
   "metadata": {},
   "source": [
    "### Data/Resources:\n",
    "\n",
    "I have found three sources of congressional data to investigate so far, but I do hope to find more. My sources are from Kaggle, and can be loaded into a dataframe with ease as they are .csv in format:\n",
    "\n",
    "1. [Political Polarization of Congress](https://www.kaggle.com/code/justin2028/political-polarization-us-congress-data-analysis/input) (from [original source](https://www.kaggle.com/datasets/justin2028/political-polarization-in-us-congress/data))\n",
    "- Is there a relationship between the age of a representative and their polarity?\n",
    "- Is there a particular demographic which a highly polarized representative may appeal to?\n",
    "2. [Congress’ Voting Patterns for/against Trump](https://www.kaggle.com/datasets/fivethirtyeight/trump-score)\n",
    "- Can we predict party or polarization from voting patterns for/against Trump? \n",
    "- Can we estimate polarity from voting patterns?\n",
    "3. [Election, COVID, and Demographic Data by County](https://www.kaggle.com/datasets/etsc9287/2020-general-election-polls)\n",
    "- Is there are correlation between counties which voted for Trump and representatives who vote with him?"
   ]
  },
  {
   "cell_type": "markdown",
   "metadata": {},
   "source": [
    "### ETL [Political Polarization in Congress](https://www.kaggle.com/code/justin2028/political-polarization-us-congress-data-analysis):\n",
    "Load Kaggle data into a dataframe and do preliminary cleaning and data examination:"
   ]
  },
  {
   "cell_type": "code",
   "execution_count": 2,
   "metadata": {},
   "outputs": [
    {
     "data": {
      "text/html": [
       "<div>\n",
       "<style scoped>\n",
       "    .dataframe tbody tr th:only-of-type {\n",
       "        vertical-align: middle;\n",
       "    }\n",
       "\n",
       "    .dataframe tbody tr th {\n",
       "        vertical-align: top;\n",
       "    }\n",
       "\n",
       "    .dataframe thead th {\n",
       "        text-align: right;\n",
       "    }\n",
       "</style>\n",
       "<table border=\"1\" class=\"dataframe\">\n",
       "  <thead>\n",
       "    <tr style=\"text-align: right;\">\n",
       "      <th></th>\n",
       "      <th>congress</th>\n",
       "      <th>chamber</th>\n",
       "      <th>icpsr</th>\n",
       "      <th>state_icpsr</th>\n",
       "      <th>district_code</th>\n",
       "      <th>state_abbrev</th>\n",
       "      <th>party_code</th>\n",
       "      <th>occupancy</th>\n",
       "      <th>last_means</th>\n",
       "      <th>bioname</th>\n",
       "      <th>...</th>\n",
       "      <th>died</th>\n",
       "      <th>nominate_dim1</th>\n",
       "      <th>nominate_dim2</th>\n",
       "      <th>nominate_log_likelihood</th>\n",
       "      <th>nominate_geo_mean_probability</th>\n",
       "      <th>nominate_number_of_votes</th>\n",
       "      <th>nominate_number_of_errors</th>\n",
       "      <th>conditional</th>\n",
       "      <th>nokken_poole_dim1</th>\n",
       "      <th>nokken_poole_dim2</th>\n",
       "    </tr>\n",
       "  </thead>\n",
       "  <tbody>\n",
       "    <tr>\n",
       "      <th>0</th>\n",
       "      <td>1</td>\n",
       "      <td>President</td>\n",
       "      <td>99869</td>\n",
       "      <td>99</td>\n",
       "      <td>0</td>\n",
       "      <td>USA</td>\n",
       "      <td>5000</td>\n",
       "      <td>NaN</td>\n",
       "      <td>NaN</td>\n",
       "      <td>WASHINGTON, George</td>\n",
       "      <td>...</td>\n",
       "      <td>NaN</td>\n",
       "      <td>NaN</td>\n",
       "      <td>NaN</td>\n",
       "      <td>NaN</td>\n",
       "      <td>NaN</td>\n",
       "      <td>NaN</td>\n",
       "      <td>NaN</td>\n",
       "      <td>NaN</td>\n",
       "      <td>NaN</td>\n",
       "      <td>NaN</td>\n",
       "    </tr>\n",
       "    <tr>\n",
       "      <th>1</th>\n",
       "      <td>1</td>\n",
       "      <td>House</td>\n",
       "      <td>379</td>\n",
       "      <td>44</td>\n",
       "      <td>2</td>\n",
       "      <td>GA</td>\n",
       "      <td>4000</td>\n",
       "      <td>0.0</td>\n",
       "      <td>1.0</td>\n",
       "      <td>BALDWIN, Abraham</td>\n",
       "      <td>...</td>\n",
       "      <td>1807.0</td>\n",
       "      <td>-0.165</td>\n",
       "      <td>-0.373</td>\n",
       "      <td>-28.55029</td>\n",
       "      <td>0.758</td>\n",
       "      <td>103.0</td>\n",
       "      <td>12.0</td>\n",
       "      <td>NaN</td>\n",
       "      <td>-0.429</td>\n",
       "      <td>-0.817</td>\n",
       "    </tr>\n",
       "    <tr>\n",
       "      <th>2</th>\n",
       "      <td>1</td>\n",
       "      <td>House</td>\n",
       "      <td>4854</td>\n",
       "      <td>44</td>\n",
       "      <td>1</td>\n",
       "      <td>GA</td>\n",
       "      <td>4000</td>\n",
       "      <td>0.0</td>\n",
       "      <td>1.0</td>\n",
       "      <td>JACKSON, James</td>\n",
       "      <td>...</td>\n",
       "      <td>1806.0</td>\n",
       "      <td>-0.320</td>\n",
       "      <td>-0.181</td>\n",
       "      <td>-24.89986</td>\n",
       "      <td>0.776</td>\n",
       "      <td>98.0</td>\n",
       "      <td>9.0</td>\n",
       "      <td>NaN</td>\n",
       "      <td>-0.559</td>\n",
       "      <td>-0.052</td>\n",
       "    </tr>\n",
       "    <tr>\n",
       "      <th>3</th>\n",
       "      <td>1</td>\n",
       "      <td>House</td>\n",
       "      <td>6071</td>\n",
       "      <td>44</td>\n",
       "      <td>3</td>\n",
       "      <td>GA</td>\n",
       "      <td>4000</td>\n",
       "      <td>0.0</td>\n",
       "      <td>1.0</td>\n",
       "      <td>MATHEWS, George</td>\n",
       "      <td>...</td>\n",
       "      <td>1812.0</td>\n",
       "      <td>-0.428</td>\n",
       "      <td>-0.317</td>\n",
       "      <td>-12.62728</td>\n",
       "      <td>0.880</td>\n",
       "      <td>99.0</td>\n",
       "      <td>2.0</td>\n",
       "      <td>NaN</td>\n",
       "      <td>-0.413</td>\n",
       "      <td>-0.232</td>\n",
       "    </tr>\n",
       "    <tr>\n",
       "      <th>4</th>\n",
       "      <td>1</td>\n",
       "      <td>House</td>\n",
       "      <td>1538</td>\n",
       "      <td>52</td>\n",
       "      <td>6</td>\n",
       "      <td>MD</td>\n",
       "      <td>5000</td>\n",
       "      <td>0.0</td>\n",
       "      <td>1.0</td>\n",
       "      <td>CARROLL, Daniel</td>\n",
       "      <td>...</td>\n",
       "      <td>1796.0</td>\n",
       "      <td>0.116</td>\n",
       "      <td>-0.740</td>\n",
       "      <td>-23.47008</td>\n",
       "      <td>0.783</td>\n",
       "      <td>96.0</td>\n",
       "      <td>11.0</td>\n",
       "      <td>NaN</td>\n",
       "      <td>0.114</td>\n",
       "      <td>-0.779</td>\n",
       "    </tr>\n",
       "  </tbody>\n",
       "</table>\n",
       "<p>5 rows × 22 columns</p>\n",
       "</div>"
      ],
      "text/plain": [
       "   congress    chamber  icpsr  state_icpsr  district_code state_abbrev  \\\n",
       "0         1  President  99869           99              0          USA   \n",
       "1         1      House    379           44              2           GA   \n",
       "2         1      House   4854           44              1           GA   \n",
       "3         1      House   6071           44              3           GA   \n",
       "4         1      House   1538           52              6           MD   \n",
       "\n",
       "   party_code  occupancy  last_means             bioname  ...    died  \\\n",
       "0        5000        NaN         NaN  WASHINGTON, George  ...     NaN   \n",
       "1        4000        0.0         1.0    BALDWIN, Abraham  ...  1807.0   \n",
       "2        4000        0.0         1.0      JACKSON, James  ...  1806.0   \n",
       "3        4000        0.0         1.0     MATHEWS, George  ...  1812.0   \n",
       "4        5000        0.0         1.0     CARROLL, Daniel  ...  1796.0   \n",
       "\n",
       "   nominate_dim1  nominate_dim2  nominate_log_likelihood  \\\n",
       "0            NaN            NaN                      NaN   \n",
       "1         -0.165         -0.373                -28.55029   \n",
       "2         -0.320         -0.181                -24.89986   \n",
       "3         -0.428         -0.317                -12.62728   \n",
       "4          0.116         -0.740                -23.47008   \n",
       "\n",
       "   nominate_geo_mean_probability  nominate_number_of_votes  \\\n",
       "0                            NaN                       NaN   \n",
       "1                          0.758                     103.0   \n",
       "2                          0.776                      98.0   \n",
       "3                          0.880                      99.0   \n",
       "4                          0.783                      96.0   \n",
       "\n",
       "   nominate_number_of_errors  conditional  nokken_poole_dim1  \\\n",
       "0                        NaN          NaN                NaN   \n",
       "1                       12.0          NaN             -0.429   \n",
       "2                        9.0          NaN             -0.559   \n",
       "3                        2.0          NaN             -0.413   \n",
       "4                       11.0          NaN              0.114   \n",
       "\n",
       "   nokken_poole_dim2  \n",
       "0                NaN  \n",
       "1             -0.817  \n",
       "2             -0.052  \n",
       "3             -0.232  \n",
       "4             -0.779  \n",
       "\n",
       "[5 rows x 22 columns]"
      ]
     },
     "execution_count": 2,
     "metadata": {},
     "output_type": "execute_result"
    }
   ],
   "source": [
    "political_polarization_df = pd.read_csv(\"all_congress_polarization.csv\")\n",
    "political_polarization_df.head()"
   ]
  },
  {
   "cell_type": "markdown",
   "metadata": {},
   "source": [
    "The data contains information on the chamber of which the representative is part, demographic information about where the representative is from, and several stats on political polarization. There are a few columns we'll want to drop:"
   ]
  },
  {
   "cell_type": "code",
   "execution_count": 3,
   "metadata": {},
   "outputs": [
    {
     "data": {
      "text/plain": [
       "congress                             0\n",
       "chamber                              0\n",
       "icpsr                                0\n",
       "state_icpsr                          0\n",
       "district_code                        0\n",
       "state_abbrev                         0\n",
       "party_code                           0\n",
       "occupancy                         2271\n",
       "last_means                        2271\n",
       "bioname                              0\n",
       "bioguide_id                         67\n",
       "born                               289\n",
       "died                              9924\n",
       "nominate_dim1                      228\n",
       "nominate_dim2                      228\n",
       "nominate_log_likelihood           1237\n",
       "nominate_geo_mean_probability     1237\n",
       "nominate_number_of_votes          1237\n",
       "nominate_number_of_errors         1237\n",
       "conditional                      50484\n",
       "nokken_poole_dim1                  466\n",
       "nokken_poole_dim2                  466\n",
       "dtype: int64"
      ]
     },
     "execution_count": 3,
     "metadata": {},
     "output_type": "execute_result"
    }
   ],
   "source": [
    "political_polarization_df.isna().sum()"
   ]
  },
  {
   "cell_type": "markdown",
   "metadata": {},
   "source": [
    "\"died\" has a large number of NaNs and isn't very imperitive to keep for our purposes, \"conditional\" is mostly NaNs and can be removed, and the same foes for \"last_means\" and \"occupancy\".\n",
    "\n",
    "For the purposes of this breakdown, we'll take a look at the 116th Congress specifically, and remove \"President\" entries just to get a better feel for the data:"
   ]
  },
  {
   "cell_type": "code",
   "execution_count": 4,
   "metadata": {},
   "outputs": [
    {
     "data": {
      "text/html": [
       "<div>\n",
       "<style scoped>\n",
       "    .dataframe tbody tr th:only-of-type {\n",
       "        vertical-align: middle;\n",
       "    }\n",
       "\n",
       "    .dataframe tbody tr th {\n",
       "        vertical-align: top;\n",
       "    }\n",
       "\n",
       "    .dataframe thead th {\n",
       "        text-align: right;\n",
       "    }\n",
       "</style>\n",
       "<table border=\"1\" class=\"dataframe\">\n",
       "  <thead>\n",
       "    <tr style=\"text-align: right;\">\n",
       "      <th></th>\n",
       "      <th>congress</th>\n",
       "      <th>chamber</th>\n",
       "      <th>icpsr</th>\n",
       "      <th>state_icpsr</th>\n",
       "      <th>district_code</th>\n",
       "      <th>state_abbrev</th>\n",
       "      <th>party_code</th>\n",
       "      <th>bioname</th>\n",
       "      <th>bioguide_id</th>\n",
       "      <th>born</th>\n",
       "      <th>nominate_dim1</th>\n",
       "      <th>nominate_dim2</th>\n",
       "      <th>nominate_log_likelihood</th>\n",
       "      <th>nominate_geo_mean_probability</th>\n",
       "      <th>nominate_number_of_votes</th>\n",
       "      <th>nominate_number_of_errors</th>\n",
       "      <th>nokken_poole_dim1</th>\n",
       "      <th>nokken_poole_dim2</th>\n",
       "    </tr>\n",
       "  </thead>\n",
       "  <tbody>\n",
       "    <tr>\n",
       "      <th>48832</th>\n",
       "      <td>116</td>\n",
       "      <td>House</td>\n",
       "      <td>20301</td>\n",
       "      <td>41</td>\n",
       "      <td>3</td>\n",
       "      <td>AL</td>\n",
       "      <td>200</td>\n",
       "      <td>ROGERS, Mike Dennis</td>\n",
       "      <td>R000575</td>\n",
       "      <td>1958.0</td>\n",
       "      <td>0.361</td>\n",
       "      <td>0.462</td>\n",
       "      <td>-166.79214</td>\n",
       "      <td>0.80364</td>\n",
       "      <td>763.0</td>\n",
       "      <td>69.0</td>\n",
       "      <td>0.520</td>\n",
       "      <td>0.388</td>\n",
       "    </tr>\n",
       "    <tr>\n",
       "      <th>48833</th>\n",
       "      <td>116</td>\n",
       "      <td>House</td>\n",
       "      <td>21102</td>\n",
       "      <td>41</td>\n",
       "      <td>7</td>\n",
       "      <td>AL</td>\n",
       "      <td>100</td>\n",
       "      <td>SEWELL, Terri</td>\n",
       "      <td>S001185</td>\n",
       "      <td>1965.0</td>\n",
       "      <td>-0.393</td>\n",
       "      <td>0.398</td>\n",
       "      <td>-28.40094</td>\n",
       "      <td>0.96464</td>\n",
       "      <td>789.0</td>\n",
       "      <td>11.0</td>\n",
       "      <td>-0.430</td>\n",
       "      <td>0.384</td>\n",
       "    </tr>\n",
       "    <tr>\n",
       "      <th>48834</th>\n",
       "      <td>116</td>\n",
       "      <td>House</td>\n",
       "      <td>21192</td>\n",
       "      <td>41</td>\n",
       "      <td>2</td>\n",
       "      <td>AL</td>\n",
       "      <td>200</td>\n",
       "      <td>ROBY, Martha</td>\n",
       "      <td>R000591</td>\n",
       "      <td>1976.0</td>\n",
       "      <td>0.362</td>\n",
       "      <td>0.658</td>\n",
       "      <td>-90.42097</td>\n",
       "      <td>0.88244</td>\n",
       "      <td>723.0</td>\n",
       "      <td>31.0</td>\n",
       "      <td>0.346</td>\n",
       "      <td>0.672</td>\n",
       "    </tr>\n",
       "    <tr>\n",
       "      <th>48835</th>\n",
       "      <td>116</td>\n",
       "      <td>House</td>\n",
       "      <td>21193</td>\n",
       "      <td>41</td>\n",
       "      <td>5</td>\n",
       "      <td>AL</td>\n",
       "      <td>200</td>\n",
       "      <td>BROOKS, Mo</td>\n",
       "      <td>B001274</td>\n",
       "      <td>1954.0</td>\n",
       "      <td>0.652</td>\n",
       "      <td>-0.417</td>\n",
       "      <td>-140.71682</td>\n",
       "      <td>0.83962</td>\n",
       "      <td>805.0</td>\n",
       "      <td>57.0</td>\n",
       "      <td>0.772</td>\n",
       "      <td>-0.337</td>\n",
       "    </tr>\n",
       "    <tr>\n",
       "      <th>48836</th>\n",
       "      <td>116</td>\n",
       "      <td>House</td>\n",
       "      <td>21376</td>\n",
       "      <td>41</td>\n",
       "      <td>1</td>\n",
       "      <td>AL</td>\n",
       "      <td>200</td>\n",
       "      <td>BYRNE, Bradley</td>\n",
       "      <td>B001289</td>\n",
       "      <td>1955.0</td>\n",
       "      <td>0.610</td>\n",
       "      <td>0.250</td>\n",
       "      <td>-107.81607</td>\n",
       "      <td>0.85611</td>\n",
       "      <td>694.0</td>\n",
       "      <td>42.0</td>\n",
       "      <td>0.702</td>\n",
       "      <td>0.194</td>\n",
       "    </tr>\n",
       "  </tbody>\n",
       "</table>\n",
       "</div>"
      ],
      "text/plain": [
       "       congress chamber  icpsr  state_icpsr  district_code state_abbrev  \\\n",
       "48832       116   House  20301           41              3           AL   \n",
       "48833       116   House  21102           41              7           AL   \n",
       "48834       116   House  21192           41              2           AL   \n",
       "48835       116   House  21193           41              5           AL   \n",
       "48836       116   House  21376           41              1           AL   \n",
       "\n",
       "       party_code              bioname bioguide_id    born  nominate_dim1  \\\n",
       "48832         200  ROGERS, Mike Dennis     R000575  1958.0          0.361   \n",
       "48833         100        SEWELL, Terri     S001185  1965.0         -0.393   \n",
       "48834         200         ROBY, Martha     R000591  1976.0          0.362   \n",
       "48835         200           BROOKS, Mo     B001274  1954.0          0.652   \n",
       "48836         200       BYRNE, Bradley     B001289  1955.0          0.610   \n",
       "\n",
       "       nominate_dim2  nominate_log_likelihood  nominate_geo_mean_probability  \\\n",
       "48832          0.462               -166.79214                        0.80364   \n",
       "48833          0.398                -28.40094                        0.96464   \n",
       "48834          0.658                -90.42097                        0.88244   \n",
       "48835         -0.417               -140.71682                        0.83962   \n",
       "48836          0.250               -107.81607                        0.85611   \n",
       "\n",
       "       nominate_number_of_votes  nominate_number_of_errors  nokken_poole_dim1  \\\n",
       "48832                     763.0                       69.0              0.520   \n",
       "48833                     789.0                       11.0             -0.430   \n",
       "48834                     723.0                       31.0              0.346   \n",
       "48835                     805.0                       57.0              0.772   \n",
       "48836                     694.0                       42.0              0.702   \n",
       "\n",
       "       nokken_poole_dim2  \n",
       "48832              0.388  \n",
       "48833              0.384  \n",
       "48834              0.672  \n",
       "48835             -0.337  \n",
       "48836              0.194  "
      ]
     },
     "metadata": {},
     "output_type": "display_data"
    },
    {
     "data": {
      "text/plain": [
       "congress                           int64\n",
       "chamber                           object\n",
       "icpsr                              int64\n",
       "state_icpsr                        int64\n",
       "district_code                      int64\n",
       "state_abbrev                      object\n",
       "party_code                         int64\n",
       "bioname                           object\n",
       "bioguide_id                       object\n",
       "born                             float64\n",
       "nominate_dim1                    float64\n",
       "nominate_dim2                    float64\n",
       "nominate_log_likelihood          float64\n",
       "nominate_geo_mean_probability    float64\n",
       "nominate_number_of_votes         float64\n",
       "nominate_number_of_errors        float64\n",
       "nokken_poole_dim1                float64\n",
       "nokken_poole_dim2                float64\n",
       "dtype: object"
      ]
     },
     "metadata": {},
     "output_type": "display_data"
    },
    {
     "data": {
      "text/plain": [
       "553"
      ]
     },
     "execution_count": 4,
     "metadata": {},
     "output_type": "execute_result"
    }
   ],
   "source": [
    "mask = (political_polarization_df[\"congress\"] == 116) & (political_polarization_df[\"chamber\"] != \"President\") \n",
    "single_congress_df = political_polarization_df[ mask ].drop([\"died\", \"conditional\", \"occupancy\", \"last_means\"], axis=1)\n",
    "display(single_congress_df.head()) # [single_congress_df.isna().any(axis=1)]\n",
    "display(single_congress_df.dtypes)\n",
    "# display(single_congress_df.isna().sum())\n",
    "len(single_congress_df)\n"
   ]
  },
  {
   "cell_type": "code",
   "execution_count": 5,
   "metadata": {},
   "outputs": [
    {
     "data": {
      "text/plain": [
       "array(['House', 'Senate'], dtype=object)"
      ]
     },
     "execution_count": 5,
     "metadata": {},
     "output_type": "execute_result"
    }
   ],
   "source": [
    "single_congress_df[\"chamber\"].unique()"
   ]
  },
  {
   "cell_type": "markdown",
   "metadata": {},
   "source": [
    "The dataframe we have constructed (after some trial and error) contains 553 representatives of both house and senate, with several descriptors for political polarity. Right off the bat, it seems that the feature types have been correctly assumed by pandas. There are a few NaNs after we remove troublesome columns (\"died\" doesn't apply to a recent session of congress, or at least it shouldn't), but most politicians have a score. There's definitely a lot to work with here.\n",
    "\n",
    "Next, let's examine \"party_code\" which should obviously be \"party\":"
   ]
  },
  {
   "cell_type": "code",
   "execution_count": 6,
   "metadata": {},
   "outputs": [
    {
     "data": {
      "text/plain": [
       "array([200, 100, 328])"
      ]
     },
     "execution_count": 6,
     "metadata": {},
     "output_type": "execute_result"
    }
   ],
   "source": [
    "single_congress_df[\"party_code\"].unique()"
   ]
  },
  {
   "cell_type": "markdown",
   "metadata": {},
   "source": [
    "Both sources for this data leave this value unlabeled, which is not good. Down the road, this will need to be checked with representatives."
   ]
  },
  {
   "cell_type": "markdown",
   "metadata": {},
   "source": [
    "Info which has been recorded from the original source [source](https://www.kaggle.com/datasets/justin2028/political-polarization-in-us-congress/data) is:\n",
    "\n",
    "- The first dimension picks up differences in ideolology, which is represented through the \"liberal\" vs. \"conservative\" (also referred to as \"left\" vs. \"right\") proportions throughout American history.\n",
    "- The second dimension picks up differences within the major political parties over slavery, currency, nativism, civil rights, and lifestyle issues during periods of American history."
   ]
  },
  {
   "cell_type": "code",
   "execution_count": 7,
   "metadata": {},
   "outputs": [
    {
     "data": {
      "text/plain": [
       "<AxesSubplot:ylabel='Frequency'>"
      ]
     },
     "execution_count": 7,
     "metadata": {},
     "output_type": "execute_result"
    },
    {
     "data": {
      "image/png": "[encoded data removed]",
      "text/plain": [
       "<Figure size 432x288 with 1 Axes>"
      ]
     },
     "metadata": {
      "needs_background": "light"
     },
     "output_type": "display_data"
    }
   ],
   "source": [
    "single_congress_df[\"nominate_dim1\"].plot.hist()"
   ]
  },
  {
   "cell_type": "markdown",
   "metadata": {},
   "source": [
    "We can see here along the first dimension (solely ideological) that in the 116th congress there is a distinctive divide down ideological lines. Most representatives are around 0.5 from the mean of 0.0. The number of representatives in the middle is somehow shockingly low."
   ]
  },
  {
   "cell_type": "code",
   "execution_count": 8,
   "metadata": {},
   "outputs": [
    {
     "data": {
      "text/plain": [
       "<AxesSubplot:ylabel='Frequency'>"
      ]
     },
     "execution_count": 8,
     "metadata": {},
     "output_type": "execute_result"
    },
    {
     "data": {
      "image/png": "[encoded data removed]",
      "text/plain": [
       "<Figure size 432x288 with 1 Axes>"
      ]
     },
     "metadata": {
      "needs_background": "light"
     },
     "output_type": "display_data"
    }
   ],
   "source": [
    "single_congress_df[\"nominate_dim2\"].plot.hist()"
   ]
  },
  {
   "cell_type": "markdown",
   "metadata": {},
   "source": [
    "Along the second dimension, we can see this just as well. Within party lines, there is not as much division on \"lifestyle issues.\" There is diversity, but judging by the bell curve, there is a trend towards homogeny. This is fairly expected."
   ]
  },
  {
   "cell_type": "markdown",
   "metadata": {},
   "source": [
    "### Closing thoughts:\n",
    "\n",
    "This dataset is interesting as it rates politicians in terms of polarity. Immediately what springs to mind are examining trends over time, when political polarity (extremism) surges, and when it eases. From the graph below, you can see the distace from the mean increase in recent years, while both parties trended closer to the mean during the second world war and through the 60s until the 90s, where both dip away from the mean:"
   ]
  },
  {
   "cell_type": "markdown",
   "metadata": {},
   "source": [
    "![Alt text](image.png)"
   ]
  },
  {
   "cell_type": "markdown",
   "metadata": {},
   "source": [
    "Beyond this dataset, I'm interested in how the datasets I've found relate to each other. I was unable to dive into the other two as thoroughly (hence their absence here), but they deal with the same congressional representatives. With more research, I hope to find a way to combine these datasets in some way, or use one to predict values in another. Eventually, I want to create a model based on the data from these datasets (and possily others) to predict quantitative descriptors of representatives in congress. I want to learn from this data in order to describe representatives in a different way, outside of just party lines and the representatives' thick rhetoric. \n",
    "\n",
    "This requires extensive data cleaning and parsing, which I'm not ready for yet. My first step after this point will be to continue my explorations into these other datasets, and look for alternatives. Once I've found solid ground, I'll evaluate whether or not I can merge these sets into one dataframe to be analyzed further."
   ]
  },
  {
   "cell_type": "markdown",
   "metadata": {},
   "source": []
  }
 ],
 "metadata": {
  "kernelspec": {
   "display_name": "Python 3",
   "language": "python",
   "name": "python3"
  },
  "language_info": {
   "codemirror_mode": {
    "name": "ipython",
    "version": 3
   },
   "file_extension": ".py",
   "mimetype": "text/x-python",
   "name": "python",
   "nbconvert_exporter": "python",
   "pygments_lexer": "ipython3",
   "version": "3.10.2"
  },
  "orig_nbformat": 4
 },
 "nbformat": 4,
 "nbformat_minor": 2
}
